{
 "cells": [
  {
   "cell_type": "markdown",
   "metadata": {},
   "source": [
    "In content filtering we use overciew column in which we write each item name,brnad name title etc that we use for cosine similarity for all products when user click in a product we get  there overview and check its similiarty with other columns to sure which is more similar to it"
   ]
  },
  {
   "cell_type": "code",
   "execution_count": 15,
   "metadata": {},
   "outputs": [],
   "source": [
    "import numpy as np\n",
    "import pandas as pd\n",
    "from sklearn.feature_extraction.text import TfidfVectorizer\n"
   ]
  },
  {
   "cell_type": "code",
   "execution_count": 16,
   "metadata": {},
   "outputs": [
    {
     "data": {
      "text/html": [
       "<div>\n",
       "<style scoped>\n",
       "    .dataframe tbody tr th:only-of-type {\n",
       "        vertical-align: middle;\n",
       "    }\n",
       "\n",
       "    .dataframe tbody tr th {\n",
       "        vertical-align: top;\n",
       "    }\n",
       "\n",
       "    .dataframe thead th {\n",
       "        text-align: right;\n",
       "    }\n",
       "</style>\n",
       "<table border=\"1\" class=\"dataframe\">\n",
       "  <thead>\n",
       "    <tr style=\"text-align: right;\">\n",
       "      <th></th>\n",
       "      <th>product_id</th>\n",
       "      <th>brand_name</th>\n",
       "      <th>gender_category</th>\n",
       "      <th>category_name</th>\n",
       "      <th>title</th>\n",
       "      <th>price</th>\n",
       "      <th>sale_price</th>\n",
       "      <th>product_link</th>\n",
       "      <th>image_link</th>\n",
       "      <th>image_link2</th>\n",
       "      <th>rating</th>\n",
       "      <th>status</th>\n",
       "      <th>datee</th>\n",
       "      <th>detail</th>\n",
       "      <th>brand_id</th>\n",
       "      <th>category_id</th>\n",
       "      <th>gender_id</th>\n",
       "      <th>overview</th>\n",
       "    </tr>\n",
       "  </thead>\n",
       "  <tbody>\n",
       "    <tr>\n",
       "      <th>0</th>\n",
       "      <td>1</td>\n",
       "      <td>khaadi</td>\n",
       "      <td>female</td>\n",
       "      <td>kameezshalwar_unstitched</td>\n",
       "      <td>Full Suit</td>\n",
       "      <td>3190.0</td>\n",
       "      <td>2230.0</td>\n",
       "      <td>https://pk.khaadi.com/a210504-red-a210504-red-...</td>\n",
       "      <td>https://pk.khaadi.com/media/catalog/product/a/...</td>\n",
       "      <td>https://pk.khaadi.com/media/catalog/product/a/...</td>\n",
       "      <td>5</td>\n",
       "      <td>avb</td>\n",
       "      <td>2021-11-09</td>\n",
       "      <td>NaN</td>\n",
       "      <td>1</td>\n",
       "      <td>5</td>\n",
       "      <td>1</td>\n",
       "      <td>khaadi female kameezshalwar_unstitched Full Su...</td>\n",
       "    </tr>\n",
       "    <tr>\n",
       "      <th>1</th>\n",
       "      <td>2</td>\n",
       "      <td>khaadi</td>\n",
       "      <td>female</td>\n",
       "      <td>kameezshalwar_unstitched</td>\n",
       "      <td>Kameez Pants</td>\n",
       "      <td>1990.0</td>\n",
       "      <td>1390.0</td>\n",
       "      <td>https://pk.khaadi.com/j21327-blue-j21327-blue-...</td>\n",
       "      <td>https://pk.khaadi.com/media/catalog/product/j/...</td>\n",
       "      <td>https://pk.khaadi.com/media/catalog/product/j/...</td>\n",
       "      <td>5</td>\n",
       "      <td>avb</td>\n",
       "      <td>2021-11-09</td>\n",
       "      <td>NaN</td>\n",
       "      <td>1</td>\n",
       "      <td>5</td>\n",
       "      <td>1</td>\n",
       "      <td>khaadi female kameezshalwar_unstitched Kameez ...</td>\n",
       "    </tr>\n",
       "    <tr>\n",
       "      <th>2</th>\n",
       "      <td>3</td>\n",
       "      <td>khaadi</td>\n",
       "      <td>female</td>\n",
       "      <td>kameezshalwar_unstitched</td>\n",
       "      <td>Full Suit</td>\n",
       "      <td>3190.0</td>\n",
       "      <td>2230.0</td>\n",
       "      <td>https://pk.khaadi.com/a210522-yellow-a210522-y...</td>\n",
       "      <td>https://pk.khaadi.com/media/catalog/product/a/...</td>\n",
       "      <td>https://pk.khaadi.com/media/catalog/product/a/...</td>\n",
       "      <td>5</td>\n",
       "      <td>avb</td>\n",
       "      <td>2021-11-09</td>\n",
       "      <td>NaN</td>\n",
       "      <td>1</td>\n",
       "      <td>5</td>\n",
       "      <td>1</td>\n",
       "      <td>khaadi female kameezshalwar_unstitched Full Su...</td>\n",
       "    </tr>\n",
       "    <tr>\n",
       "      <th>3</th>\n",
       "      <td>4</td>\n",
       "      <td>khaadi</td>\n",
       "      <td>female</td>\n",
       "      <td>kameezshalwar_unstitched</td>\n",
       "      <td>Full Suit</td>\n",
       "      <td>3190.0</td>\n",
       "      <td>2230.0</td>\n",
       "      <td>https://pk.khaadi.com/a210522-pink-a210522-pin...</td>\n",
       "      <td>https://pk.khaadi.com/media/catalog/product/a/...</td>\n",
       "      <td>https://pk.khaadi.com/media/catalog/product/a/...</td>\n",
       "      <td>5</td>\n",
       "      <td>avb</td>\n",
       "      <td>2021-11-09</td>\n",
       "      <td>NaN</td>\n",
       "      <td>1</td>\n",
       "      <td>5</td>\n",
       "      <td>1</td>\n",
       "      <td>khaadi female kameezshalwar_unstitched Full Su...</td>\n",
       "    </tr>\n",
       "    <tr>\n",
       "      <th>4</th>\n",
       "      <td>5</td>\n",
       "      <td>khaadi</td>\n",
       "      <td>female</td>\n",
       "      <td>kameezshalwar_unstitched</td>\n",
       "      <td>Full Suit</td>\n",
       "      <td>3190.0</td>\n",
       "      <td>2230.0</td>\n",
       "      <td>https://pk.khaadi.com/a210506-green-a210506-gr...</td>\n",
       "      <td>https://pk.khaadi.com/media/catalog/product/a/...</td>\n",
       "      <td>https://pk.khaadi.com/media/catalog/product/a/...</td>\n",
       "      <td>5</td>\n",
       "      <td>avb</td>\n",
       "      <td>2021-11-09</td>\n",
       "      <td>NaN</td>\n",
       "      <td>1</td>\n",
       "      <td>5</td>\n",
       "      <td>1</td>\n",
       "      <td>khaadi female kameezshalwar_unstitched Full Su...</td>\n",
       "    </tr>\n",
       "  </tbody>\n",
       "</table>\n",
       "</div>"
      ],
      "text/plain": [
       "   product_id brand_name gender_category             category_name  \\\n",
       "0           1     khaadi          female  kameezshalwar_unstitched   \n",
       "1           2     khaadi          female  kameezshalwar_unstitched   \n",
       "2           3     khaadi          female  kameezshalwar_unstitched   \n",
       "3           4     khaadi          female  kameezshalwar_unstitched   \n",
       "4           5     khaadi          female  kameezshalwar_unstitched   \n",
       "\n",
       "          title   price  sale_price  \\\n",
       "0     Full Suit  3190.0      2230.0   \n",
       "1  Kameez Pants  1990.0      1390.0   \n",
       "2     Full Suit  3190.0      2230.0   \n",
       "3     Full Suit  3190.0      2230.0   \n",
       "4     Full Suit  3190.0      2230.0   \n",
       "\n",
       "                                        product_link  \\\n",
       "0  https://pk.khaadi.com/a210504-red-a210504-red-...   \n",
       "1  https://pk.khaadi.com/j21327-blue-j21327-blue-...   \n",
       "2  https://pk.khaadi.com/a210522-yellow-a210522-y...   \n",
       "3  https://pk.khaadi.com/a210522-pink-a210522-pin...   \n",
       "4  https://pk.khaadi.com/a210506-green-a210506-gr...   \n",
       "\n",
       "                                          image_link  \\\n",
       "0  https://pk.khaadi.com/media/catalog/product/a/...   \n",
       "1  https://pk.khaadi.com/media/catalog/product/j/...   \n",
       "2  https://pk.khaadi.com/media/catalog/product/a/...   \n",
       "3  https://pk.khaadi.com/media/catalog/product/a/...   \n",
       "4  https://pk.khaadi.com/media/catalog/product/a/...   \n",
       "\n",
       "                                         image_link2 rating status  \\\n",
       "0  https://pk.khaadi.com/media/catalog/product/a/...      5    avb   \n",
       "1  https://pk.khaadi.com/media/catalog/product/j/...      5    avb   \n",
       "2  https://pk.khaadi.com/media/catalog/product/a/...      5    avb   \n",
       "3  https://pk.khaadi.com/media/catalog/product/a/...      5    avb   \n",
       "4  https://pk.khaadi.com/media/catalog/product/a/...      5    avb   \n",
       "\n",
       "        datee  detail  brand_id  category_id  gender_id  \\\n",
       "0  2021-11-09     NaN         1            5          1   \n",
       "1  2021-11-09     NaN         1            5          1   \n",
       "2  2021-11-09     NaN         1            5          1   \n",
       "3  2021-11-09     NaN         1            5          1   \n",
       "4  2021-11-09     NaN         1            5          1   \n",
       "\n",
       "                                            overview  \n",
       "0  khaadi female kameezshalwar_unstitched Full Su...  \n",
       "1  khaadi female kameezshalwar_unstitched Kameez ...  \n",
       "2  khaadi female kameezshalwar_unstitched Full Su...  \n",
       "3  khaadi female kameezshalwar_unstitched Full Su...  \n",
       "4  khaadi female kameezshalwar_unstitched Full Su...  "
      ]
     },
     "execution_count": 16,
     "metadata": {},
     "output_type": "execute_result"
    }
   ],
   "source": [
    "df1 = pd.read_csv('nproduct.csv')\n",
    "df1.head()"
   ]
  },
  {
   "cell_type": "code",
   "execution_count": 17,
   "metadata": {},
   "outputs": [
    {
     "data": {
      "text/plain": [
       "0                             Full Suit\n",
       "1                          Kameez Pants\n",
       "2                             Full Suit\n",
       "3                             Full Suit\n",
       "4                             Full Suit\n",
       "                     ...               \n",
       "1897           Cotton Jersey V-Neck Tee\n",
       "1898           Cotton Jersey Henley Top\n",
       "1899    Printed Cotton Rib Casual Shirt\n",
       "1900       Dyed Elegance Shalwar Kameez\n",
       "1901         Dyed Robbin Shalwar Kameez\n",
       "Name: title, Length: 1902, dtype: object"
      ]
     },
     "execution_count": 17,
     "metadata": {},
     "output_type": "execute_result"
    }
   ],
   "source": [
    "df1['title']"
   ]
  },
  {
   "cell_type": "markdown",
   "metadata": {},
   "source": [
    "we take overview column here to chech similiarty between items and also we pass overview insteat of title because in some cases title are same"
   ]
  },
  {
   "cell_type": "code",
   "execution_count": 18,
   "metadata": {},
   "outputs": [
    {
     "data": {
      "text/plain": [
       "<1902x1300 sparse matrix of type '<class 'numpy.float64'>'\n",
       "\twith 13173 stored elements in Compressed Sparse Row format>"
      ]
     },
     "execution_count": 18,
     "metadata": {},
     "output_type": "execute_result"
    }
   ],
   "source": [
    "tfidf = TfidfVectorizer(stop_words='english')\n",
    "\n",
    "#Replace NaN with an empty string\n",
    "df1['overview'] = df1['overview'].fillna('')\n",
    "df1['overview'] \n",
    "tfidf_matrix = tfidf.fit_transform(df1['overview'])\n",
    "\n",
    "#Output the shape of tfidf_matrix\n",
    "tfidf_matrix"
   ]
  },
  {
   "cell_type": "code",
   "execution_count": null,
   "metadata": {},
   "outputs": [],
   "source": []
  },
  {
   "cell_type": "code",
   "execution_count": 19,
   "metadata": {},
   "outputs": [],
   "source": [
    "from sklearn.metrics.pairwise import linear_kernel\n",
    "from sklearn.metrics.pairwise import cosine_similarity\n",
    "\n",
    "# Compute the cosine similarity matrix\n",
    "cosine_sim = linear_kernel(tfidf_matrix, tfidf_matrix)\n",
    "similarity = cosine_similarity(tfidf_matrix)\n",
    "indices = pd.Series(df1.index, index=df1['overview'])\n"
   ]
  },
  {
   "cell_type": "code",
   "execution_count": 20,
   "metadata": {},
   "outputs": [
    {
     "data": {
      "text/plain": [
       "array([[1.        , 0.56144709, 1.        , ..., 0.        , 0.06486831,\n",
       "        0.06486831],\n",
       "       [0.56144709, 1.        , 0.56144709, ..., 0.        , 0.21928535,\n",
       "        0.21928535],\n",
       "       [1.        , 0.56144709, 1.        , ..., 0.        , 0.06486831,\n",
       "        0.06486831],\n",
       "       ...,\n",
       "       [0.        , 0.        , 0.        , ..., 1.        , 0.15876537,\n",
       "        0.15876537],\n",
       "       [0.06486831, 0.21928535, 0.06486831, ..., 0.15876537, 1.        ,\n",
       "        0.71470658],\n",
       "       [0.06486831, 0.21928535, 0.06486831, ..., 0.15876537, 0.71470658,\n",
       "        1.        ]])"
      ]
     },
     "execution_count": 20,
     "metadata": {},
     "output_type": "execute_result"
    }
   ],
   "source": [
    "similarity"
   ]
  },
  {
   "cell_type": "code",
   "execution_count": 21,
   "metadata": {},
   "outputs": [],
   "source": [
    "# indices = pd.Series(df1.index, index=df1['title'])\n"
   ]
  },
  {
   "cell_type": "code",
   "execution_count": 22,
   "metadata": {},
   "outputs": [],
   "source": [
    "# idx = indices['Pants'][0]\n",
    "# # sim_scores = list(enumerate(cosine_sim[idx]))\n",
    "# # sim_scores2 = sorted(sim_scores,reverse=True)\n",
    "# a=cosine_sim[idx]\n",
    "# sorted(cosine_sim[idx])"
   ]
  },
  {
   "cell_type": "code",
   "execution_count": 25,
   "metadata": {},
   "outputs": [],
   "source": [
    "# Function that takes in movie title as input and outputs most similar movies\n",
    "def get_recommendations(title, cosine_sim=cosine_sim):\n",
    "    # Get the index of the movie that matches the title\n",
    "    \n",
    "    if indices[title].size==1:\n",
    "        idx = indices[title]\n",
    "    else:\n",
    "        idx = indices[title][0]\n",
    "    \n",
    "    # Get the pairwsie similarity scores of all movies with that movie\n",
    "    sim_scores = list(enumerate(cosine_sim[idx]))    \n",
    "        \n",
    "    # Sort the movies based on the similarity scores\n",
    "    sim_scores = sorted(sim_scores, key=lambda x: x[1], reverse=True)\n",
    "\n",
    "    # Get the scores of the 10 most similar movies\n",
    "    sim_scores = sim_scores[0:3]\n",
    "\n",
    "    # Get the movie indices\n",
    "    movie_indices = [i[0] for i in sim_scores]\n",
    "\n",
    "    # Return the top 10 most similar movies\n",
    "#     return \n",
    "    rlist=[]\n",
    "    a=df1['product_id'].iloc[movie_indices]\n",
    "    for i in movie_indices:      \n",
    "        rlist.append(a[i])\n",
    "    return rlist\n"
   ]
  },
  {
   "cell_type": "code",
   "execution_count": 26,
   "metadata": {
    "scrolled": true
   },
   "outputs": [
    {
     "data": {
      "text/plain": [
       "[1445, 1501, 1517]"
      ]
     },
     "execution_count": 26,
     "metadata": {},
     "output_type": "execute_result"
    }
   ],
   "source": [
    "get_recommendations('limelight female kameezshalwar_unstitched Lawn Shirt female')\n"
   ]
  },
  {
   "cell_type": "code",
   "execution_count": null,
   "metadata": {},
   "outputs": [],
   "source": []
  },
  {
   "cell_type": "code",
   "execution_count": null,
   "metadata": {},
   "outputs": [],
   "source": []
  },
  {
   "cell_type": "code",
   "execution_count": null,
   "metadata": {},
   "outputs": [],
   "source": []
  },
  {
   "cell_type": "code",
   "execution_count": null,
   "metadata": {},
   "outputs": [],
   "source": []
  },
  {
   "cell_type": "code",
   "execution_count": null,
   "metadata": {},
   "outputs": [],
   "source": []
  }
 ],
 "metadata": {
  "kernelspec": {
   "display_name": "Python 3",
   "language": "python",
   "name": "python3"
  },
  "language_info": {
   "codemirror_mode": {
    "name": "ipython",
    "version": 3
   },
   "file_extension": ".py",
   "mimetype": "text/x-python",
   "name": "python",
   "nbconvert_exporter": "python",
   "pygments_lexer": "ipython3",
   "version": "3.7.3"
  }
 },
 "nbformat": 4,
 "nbformat_minor": 2
}
