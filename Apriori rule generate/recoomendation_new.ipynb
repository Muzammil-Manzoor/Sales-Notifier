{
 "cells": [
  {
   "cell_type": "code",
   "execution_count": 29,
   "metadata": {},
   "outputs": [],
   "source": [
    "import pandas as pd\n",
    "import numpy as np\n",
    "from mlxtend.frequent_patterns import apriori\n",
    "from mlxtend.frequent_patterns import association_rules\n",
    "import matplotlib.pyplot as plt"
   ]
  },
  {
   "cell_type": "code",
   "execution_count": 30,
   "metadata": {},
   "outputs": [
    {
     "data": {
      "text/plain": [
       "0               Khaadi, Bonanza, Gulahmed, Borjan, Bata\n",
       "1                         Chenone, Bonanza, J., , Ndure\n",
       "2     Chenone, Khaadi, Sana Safinaz, Limelight, Bonanza\n",
       "3                 Beechtree, Gulahmed, Bareeze, Maria.B\n",
       "4                                Chenone, Bonanza, J., \n",
       "                            ...                        \n",
       "84                Limelight, Beechtree, Gulahmed, Ndure\n",
       "85                   Chenone, Bonanza, Gulahmed, Borjan\n",
       "86                Khaadi, Sana Safinaz, Gulahmed, Ndure\n",
       "87                      Bonanza, Gulahmed, Hush puppies\n",
       "88          Chenone, Limelight, Bonanza, Bareeze, Warda\n",
       "Name: Select your Five favorite Brands?, Length: 89, dtype: object"
      ]
     },
     "execution_count": 30,
     "metadata": {},
     "output_type": "execute_result"
    }
   ],
   "source": [
    "df=pd.read_excel('new_Recommendation.xlsx')\n",
    "df['Select your Five favorite Brands?']"
   ]
  },
  {
   "cell_type": "code",
   "execution_count": 31,
   "metadata": {},
   "outputs": [
    {
     "data": {
      "text/plain": [
       "['Khaadi, Bonanza, Gulahmed, Borjan, Bata',\n",
       " 'Chenone, Bonanza, J., , Ndure',\n",
       " 'Chenone, Khaadi, Sana Safinaz, Limelight, Bonanza',\n",
       " 'Beechtree, Gulahmed, Bareeze, Maria.B',\n",
       " 'Chenone, Bonanza, J., ',\n",
       " 'Limelight, Bonanza, Maria.B, J., ',\n",
       " 'Khaadi, Limelight, J., , Metro',\n",
       " 'Gulahmed, Maria.B, Metro, Bata',\n",
       " 'Bonanza, J., , Bata, Ndure',\n",
       " 'Chenone, Bonanza, Bareeze',\n",
       " 'J., , Borjan',\n",
       " 'Khaadi, Sana Safinaz, Bareeze, Hush puppies',\n",
       " 'Beechtree, Metro, Bata, Ndure',\n",
       " 'Sana Safinaz, Beechtree, J., , Metro',\n",
       " 'Bonanza, J., , Hush puppies',\n",
       " 'Khaadi, Sana Safinaz, Metro',\n",
       " 'Khaadi, Limelight, Warda',\n",
       " 'Limelight, Bonanza, Hush puppies, Ndure',\n",
       " 'Khaadi, Limelight, Bonanza, Beechtree, Metro',\n",
       " 'J., , Borjan, Hush puppies',\n",
       " 'Khaadi, Gulahmed, Maria.B',\n",
       " 'Khaadi, Gulahmed, Maria.B, Warda',\n",
       " 'Bonanza, Bareeze, Maria.B, Metro',\n",
       " 'Khaadi, Bonanza, Maria.B',\n",
       " 'Bonanza, J., , Ndure',\n",
       " 'Khaadi, Metro',\n",
       " 'J., , Hush puppies, Ndure',\n",
       " 'Bonanza, J., , Borjan, Hush puppies, Bata',\n",
       " 'Limelight, Bonanza, Gulahmed, Bata, Ndure',\n",
       " 'Chenone, Bonanza, J., ',\n",
       " 'J., , Metro, Ndure',\n",
       " 'Khaadi, J., , Metro, Bata',\n",
       " 'Bonanza, J., , Metro',\n",
       " 'Khaadi, Sana Safinaz, Bonanza, Gulahmed, J., ',\n",
       " 'J., ',\n",
       " 'J., , Borjan, Hush puppies',\n",
       " nan,\n",
       " 'Gulahmed, Warda, Ndure',\n",
       " 'Limelight',\n",
       " 'Warda, J., , Bata',\n",
       " 'Bata',\n",
       " 'Chenone, Khaadi, Borjan',\n",
       " 'Bonanza, Gulahmed, J., , Borjan, Bata',\n",
       " 'Khaadi, Bonanza, Gulahmed, Warda',\n",
       " 'Khaadi, J., , Borjan, Bata',\n",
       " 'Chenone, Khaadi, Metro',\n",
       " 'Bonanza, Gulahmed, Bareeze, J., ',\n",
       " 'Gulahmed, J., , Borjan, Hush puppies, Ndure',\n",
       " 'Chenone, Bonanza, Hush puppies, Ndure',\n",
       " 'Khaadi, Borjan, Bata',\n",
       " 'J., , Borjan, Hush puppies',\n",
       " 'Gulahmed, J., , Borjan, Ndure',\n",
       " 'Khaadi, Bonanza, J., , Hush puppies',\n",
       " 'Warda, J., ',\n",
       " 'Chenone, Gulahmed, Borjan, Ndure',\n",
       " 'Gulahmed, Ndure',\n",
       " 'Khaadi, Sana Safinaz, Limelight, J., ',\n",
       " 'Chenone, Khaadi, Borjan',\n",
       " 'Gulahmed, J., , Hush puppies, Bata',\n",
       " 'Khaadi, Limelight, J., ',\n",
       " 'Khaadi, Maria.B, J., , Borjan',\n",
       " 'Bonanza, Hush puppies, Metro, Bata, Ndure',\n",
       " 'Beechtree, Gulahmed, Bareeze, Maria.B',\n",
       " 'Chenone, Khaadi, Limelight, J., , Borjan',\n",
       " 'Gulahmed, J., , Borjan, Hush puppies',\n",
       " 'Chenone, Limelight, Bonanza, Bareeze, Warda',\n",
       " 'Sana Safinaz, Limelight, Maria.B',\n",
       " 'Sana Safinaz, Bonanza, Borjan, Ndure',\n",
       " 'Bata, Ndure',\n",
       " 'Bonanza, Borjan, Ndure',\n",
       " 'Chenone, Khaadi, Sana Safinaz, Limelight, Bonanza',\n",
       " 'Chenone, Khaadi, Limelight, Bareeze',\n",
       " 'Chenone, Bonanza, Gulahmed, Maria.B',\n",
       " 'Gulahmed, Bata',\n",
       " 'Bonanza, Maria.B, Warda, J., ',\n",
       " 'Gulahmed, Borjan, Ndure',\n",
       " 'Bonanza, J., , Borjan, Ndure',\n",
       " 'Bonanza, Bareeze, J., ',\n",
       " 'Khaadi, Bonanza, Bareeze, J., ',\n",
       " 'Chenone, Khaadi, Bonanza, J., ',\n",
       " 'Khaadi, Bonanza, J., ',\n",
       " 'Khaadi, J., , Borjan',\n",
       " 'Khaadi, J., , Borjan, Bata',\n",
       " 'Bonanza, Gulahmed, J., ',\n",
       " 'Limelight, Beechtree, Gulahmed, Ndure',\n",
       " 'Chenone, Bonanza, Gulahmed, Borjan',\n",
       " 'Khaadi, Sana Safinaz, Gulahmed, Ndure',\n",
       " 'Bonanza, Gulahmed, Hush puppies',\n",
       " 'Chenone, Limelight, Bonanza, Bareeze, Warda']"
      ]
     },
     "execution_count": 31,
     "metadata": {},
     "output_type": "execute_result"
    }
   ],
   "source": [
    "item=df['Select your Five favorite Brands?'].tolist()\n",
    "\n",
    "item"
   ]
  },
  {
   "cell_type": "code",
   "execution_count": 32,
   "metadata": {},
   "outputs": [
    {
     "ename": "AttributeError",
     "evalue": "'float' object has no attribute 'split'",
     "output_type": "error",
     "traceback": [
      "\u001b[1;31m---------------------------------------------------------------------------\u001b[0m",
      "\u001b[1;31mAttributeError\u001b[0m                            Traceback (most recent call last)",
      "\u001b[1;32m<ipython-input-32-e8098d46eeaa>\u001b[0m in \u001b[0;36m<module>\u001b[1;34m\u001b[0m\n\u001b[0;32m      1\u001b[0m \u001b[0mlist_item\u001b[0m\u001b[1;33m=\u001b[0m\u001b[1;33m[\u001b[0m\u001b[1;33m]\u001b[0m\u001b[1;33m\u001b[0m\u001b[1;33m\u001b[0m\u001b[0m\n\u001b[0;32m      2\u001b[0m \u001b[1;32mfor\u001b[0m \u001b[0mi\u001b[0m \u001b[1;32min\u001b[0m \u001b[0mitem\u001b[0m\u001b[1;33m:\u001b[0m\u001b[1;33m\u001b[0m\u001b[1;33m\u001b[0m\u001b[0m\n\u001b[1;32m----> 3\u001b[1;33m     \u001b[0mlist_item\u001b[0m\u001b[1;33m.\u001b[0m\u001b[0mappend\u001b[0m\u001b[1;33m(\u001b[0m\u001b[0mi\u001b[0m\u001b[1;33m.\u001b[0m\u001b[0msplit\u001b[0m\u001b[1;33m(\u001b[0m\u001b[1;34m','\u001b[0m\u001b[1;33m)\u001b[0m\u001b[1;33m)\u001b[0m\u001b[1;33m\u001b[0m\u001b[1;33m\u001b[0m\u001b[0m\n\u001b[0m",
      "\u001b[1;31mAttributeError\u001b[0m: 'float' object has no attribute 'split'"
     ]
    }
   ],
   "source": [
    "list_item=[]\n",
    "for i in item:\n",
    "    list_item.append(i.split(','))"
   ]
  },
  {
   "cell_type": "code",
   "execution_count": null,
   "metadata": {},
   "outputs": [],
   "source": []
  },
  {
   "cell_type": "code",
   "execution_count": null,
   "metadata": {},
   "outputs": [],
   "source": []
  },
  {
   "cell_type": "code",
   "execution_count": null,
   "metadata": {},
   "outputs": [],
   "source": []
  },
  {
   "cell_type": "code",
   "execution_count": null,
   "metadata": {},
   "outputs": [],
   "source": []
  }
 ],
 "metadata": {
  "kernelspec": {
   "display_name": "Python 3",
   "language": "python",
   "name": "python3"
  },
  "language_info": {
   "codemirror_mode": {
    "name": "ipython",
    "version": 3
   },
   "file_extension": ".py",
   "mimetype": "text/x-python",
   "name": "python",
   "nbconvert_exporter": "python",
   "pygments_lexer": "ipython3",
   "version": "3.7.3"
  }
 },
 "nbformat": 4,
 "nbformat_minor": 2
}
